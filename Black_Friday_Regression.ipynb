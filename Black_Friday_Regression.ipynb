{
 "cells": [
  {
   "cell_type": "code",
   "execution_count": 1,
   "metadata": {
    "colab": {
     "base_uri": "https://localhost:8080/",
     "height": 170
    },
    "colab_type": "code",
    "id": "Lgg26EzSnVbQ",
    "outputId": "b3a945c7-c5dd-4b55-c911-4d1294918dd8"
   },
   "outputs": [
    {
     "name": "stdout",
     "output_type": "stream",
     "text": [
      "Requirement already satisfied: chart_studio in /usr/local/lib/python3.6/dist-packages (1.1.0)\n",
      "Requirement already satisfied: retrying>=1.3.3 in /usr/local/lib/python3.6/dist-packages (from chart_studio) (1.3.3)\n",
      "Requirement already satisfied: plotly in /usr/local/lib/python3.6/dist-packages (from chart_studio) (4.4.1)\n",
      "Requirement already satisfied: requests in /usr/local/lib/python3.6/dist-packages (from chart_studio) (2.23.0)\n",
      "Requirement already satisfied: six in /usr/local/lib/python3.6/dist-packages (from chart_studio) (1.15.0)\n",
      "Requirement already satisfied: idna<3,>=2.5 in /usr/local/lib/python3.6/dist-packages (from requests->chart_studio) (2.10)\n",
      "Requirement already satisfied: urllib3!=1.25.0,!=1.25.1,<1.26,>=1.21.1 in /usr/local/lib/python3.6/dist-packages (from requests->chart_studio) (1.24.3)\n",
      "Requirement already satisfied: certifi>=2017.4.17 in /usr/local/lib/python3.6/dist-packages (from requests->chart_studio) (2020.6.20)\n",
      "Requirement already satisfied: chardet<4,>=3.0.2 in /usr/local/lib/python3.6/dist-packages (from requests->chart_studio) (3.0.4)\n"
     ]
    }
   ],
   "source": [
    "#Installing libraries\n",
    "!pip install \"chart_studio\""
   ]
  },
  {
   "cell_type": "markdown",
   "metadata": {
    "colab_type": "text",
    "id": "H6IX1V1GrCZZ"
   },
   "source": [
    "Loading all the libraries required to implement the models"
   ]
  },
  {
   "cell_type": "code",
   "execution_count": 2,
   "metadata": {
    "colab": {
     "base_uri": "https://localhost:8080/",
     "height": 85
    },
    "colab_type": "code",
    "id": "20WZHZYBAbs8",
    "outputId": "7e590cfb-d92b-4dc1-f5f8-22bbe6261cc3"
   },
   "outputs": [
    {
     "name": "stderr",
     "output_type": "stream",
     "text": [
      "/usr/local/lib/python3.6/dist-packages/statsmodels/tools/_testing.py:19: FutureWarning:\n",
      "\n",
      "pandas.util.testing is deprecated. Use the functions in the public API at pandas.testing instead.\n",
      "\n"
     ]
    }
   ],
   "source": [
    "# Basic libraries for data manipulation and analysis\n",
    "import pandas as pd\n",
    "from pandas import Series, DataFrame\n",
    "import numpy as np\n",
    "\n",
    "# Libraries for plotting data\n",
    "import plotly.tools as tls\n",
    "import chart_studio.plotly as py\n",
    "import matplotlib.pyplot as plt\n",
    "import plotly.graph_objs as go\n",
    "import seaborn as sns\n",
    "\n",
    "import cufflinks as cf\n",
    "# print(cf.__version__)\n",
    "\n",
    "# Decision Tree based Regression Models\n",
    "from sklearn.ensemble import RandomForestRegressor"
   ]
  },
  {
   "cell_type": "code",
   "execution_count": 3,
   "metadata": {
    "colab": {
     "base_uri": "https://localhost:8080/",
     "height": 34
    },
    "colab_type": "code",
    "id": "RXC-dX8q5Hpq",
    "outputId": "84f33ae3-129f-4b1a-a20f-6601ded03039"
   },
   "outputs": [
    {
     "name": "stdout",
     "output_type": "stream",
     "text": [
      "Drive already mounted at /content/gdrive; to attempt to forcibly remount, call drive.mount(\"/content/gdrive\", force_remount=True).\n"
     ]
    }
   ],
   "source": [
    "#To mount the google drive with this notebook so that it can access the CSV file that is dataset from the drive and run it efficiently\n",
    "from google.colab import drive \n",
    "drive.mount('/content/gdrive')"
   ]
  },
  {
   "cell_type": "code",
   "execution_count": 4,
   "metadata": {
    "colab": {},
    "colab_type": "code",
    "id": "tj5N2W8qAoGW"
   },
   "outputs": [],
   "source": [
    " # Importing dataset\n",
    "\n",
    "Bfdata = pd.read_csv('gdrive/My Drive/BlackFridayDataset.csv')"
   ]
  },
  {
   "cell_type": "code",
   "execution_count": 5,
   "metadata": {
    "colab": {},
    "colab_type": "code",
    "id": "MTAxzT09BMqd"
   },
   "outputs": [],
   "source": [
    "%matplotlib inline"
   ]
  },
  {
   "cell_type": "code",
   "execution_count": 6,
   "metadata": {
    "colab": {
     "base_uri": "https://localhost:8080/",
     "height": 238
    },
    "colab_type": "code",
    "id": "2taqjt0wBPN7",
    "outputId": "7ce2db02-e83c-4c33-810b-47098feee1e0"
   },
   "outputs": [
    {
     "data": {
      "text/plain": [
       "User_ID                            0\n",
       "Product_ID                         0\n",
       "Gender                             0\n",
       "Age                                0\n",
       "Occupation                         0\n",
       "City_Category                      0\n",
       "Stay_In_Current_City_Years         0\n",
       "Marital_Status                     0\n",
       "Product_Category_1                 0\n",
       "Product_Category_2            166986\n",
       "Product_Category_3            373299\n",
       "Purchase                           0\n",
       "dtype: int64"
      ]
     },
     "execution_count": 6,
     "metadata": {
      "tags": []
     },
     "output_type": "execute_result"
    }
   ],
   "source": [
    "# to check for null values present, if any\n",
    "Bfdata.isnull().sum()"
   ]
  },
  {
   "cell_type": "code",
   "execution_count": 7,
   "metadata": {
    "colab": {},
    "colab_type": "code",
    "id": "CpE4WItrBV4A"
   },
   "outputs": [],
   "source": [
    "# Replace missing values in Product_Category_2 and Product_Category_3 columns with 0\n",
    "# because replacing these missing values with mean/median/mode might introduce bias in the data\n",
    "Bfdata['Product_Category_2'].fillna(0, inplace=True)\n",
    "Bfdata['Product_Category_3'].fillna(0, inplace=True)"
   ]
  },
  {
   "cell_type": "code",
   "execution_count": 8,
   "metadata": {
    "colab": {},
    "colab_type": "code",
    "id": "ONHhlAQXBWGK"
   },
   "outputs": [],
   "source": [
    "# Converting Product_Category_2 and Product_Category_3 to int from object, to maintain consistency across the dataframe\n",
    "Bfdata['Product_Category_2'] = Bfdata['Product_Category_2'].astype(int)\n",
    "Bfdata['Product_Category_3'] = Bfdata['Product_Category_3'].astype(int)"
   ]
  },
  {
   "cell_type": "code",
   "execution_count": 9,
   "metadata": {
    "colab": {},
    "colab_type": "code",
    "id": "et8IFLsFBWMk"
   },
   "outputs": [],
   "source": [
    "# a copy of the oroginal dataframe\n",
    "bfdata  = Bfdata.copy(deep=True)"
   ]
  },
  {
   "cell_type": "code",
   "execution_count": 10,
   "metadata": {
    "colab": {},
    "colab_type": "code",
    "id": "xthS69kwBWBN"
   },
   "outputs": [],
   "source": [
    "# Replacing column values in the dataframe to maintain consistency throughout\n",
    "\n",
    "# In Gender, replacing 'F' with 0 and 'M' with 1\n",
    "bfdata.loc[bfdata['Gender'] == 'F', 'Gender'] = 0\n",
    "bfdata.loc[bfdata['Gender'] == 'M', 'Gender'] = 1\n",
    "\n",
    "# In Age column, replacing different ranges with the below values\n",
    "# '0-17' is replaced with 17\n",
    "# '18-25' is replaced with 25\n",
    "# '26-35' is replaced with 35\n",
    "# '36-45' is replaced with 45\n",
    "# '46-50' is replaced with 50\n",
    "# '51-55' is replaced with 55\n",
    "# '55+' is replaced with 58\n",
    "bfdata.loc[bfdata['Age'] == '0-17', 'Age'] = 17\n",
    "bfdata.loc[bfdata['Age'] == '18-25', 'Age'] = 25\n",
    "#bfdata.loc[bfdata['Age'] == '18-2', 'Age'] = 25\n",
    "bfdata.loc[bfdata['Age'] == '26-35', 'Age'] = 35\n",
    "bfdata.loc[bfdata['Age'] == '36-45', 'Age'] = 45\n",
    "bfdata.loc[bfdata['Age'] == '46-50', 'Age'] = 50\n",
    "bfdata.loc[bfdata['Age'] == '51-55', 'Age'] = 55\n",
    "bfdata.loc[bfdata['Age'] == '55+', 'Age'] = 58\n",
    "\n"
   ]
  },
  {
   "cell_type": "code",
   "execution_count": 11,
   "metadata": {
    "colab": {
     "base_uri": "https://localhost:8080/",
     "height": 34
    },
    "colab_type": "code",
    "id": "QjkAtNnxxFI8",
    "outputId": "5e48f8e4-d0b9-41ae-e7f5-a4a65c8d3edb"
   },
   "outputs": [
    {
     "data": {
      "text/plain": [
       "array([17, 58, 35, 50, 55, 45, 25], dtype=object)"
      ]
     },
     "execution_count": 11,
     "metadata": {
      "tags": []
     },
     "output_type": "execute_result"
    }
   ],
   "source": [
    "#To check all the values in the Age column \n",
    "bfdata.Age.unique()"
   ]
  },
  {
   "cell_type": "code",
   "execution_count": 12,
   "metadata": {
    "colab": {
     "base_uri": "https://localhost:8080/",
     "height": 238
    },
    "colab_type": "code",
    "id": "FJG0o1OS4NLa",
    "outputId": "fcaec4b7-61cf-4b39-d526-07451f2457cd"
   },
   "outputs": [
    {
     "data": {
      "text/plain": [
       "User_ID                       0\n",
       "Product_ID                    0\n",
       "Gender                        0\n",
       "Age                           0\n",
       "Occupation                    0\n",
       "City_Category                 0\n",
       "Stay_In_Current_City_Years    0\n",
       "Marital_Status                0\n",
       "Product_Category_1            0\n",
       "Product_Category_2            0\n",
       "Product_Category_3            0\n",
       "Purchase                      0\n",
       "dtype: int64"
      ]
     },
     "execution_count": 12,
     "metadata": {
      "tags": []
     },
     "output_type": "execute_result"
    }
   ],
   "source": [
    "#To checck NULL values from the dataframe\n",
    "bfdata.isnull().sum()"
   ]
  },
  {
   "cell_type": "code",
   "execution_count": 13,
   "metadata": {
    "colab": {},
    "colab_type": "code",
    "id": "aK__kjiQxCz9"
   },
   "outputs": [],
   "source": [
    "\n",
    "# In 'Stay_In_Current_City_Years', replacing '4+' with 4\n",
    "bfdata.loc[bfdata['Stay_In_Current_City_Years'] == '4+', 'Stay_In_Current_City_Years'] = 4\n",
    "\n",
    "# In 'City_Category',replacing different categories with the values listed below;\n",
    "# 'A' is replaced with 0\n",
    "# 'B' is replaced with 1\n",
    "# 'C' is replaced with 2\n",
    "bfdata.loc[bfdata['City_Category'] == 'A', 'City_Category'] = 0\n",
    "bfdata.loc[bfdata['City_Category'] == 'B', 'City_Category'] = 1\n",
    "bfdata.loc[bfdata['City_Category'] == 'C', 'City_Category'] = 2\n",
    "\n",
    "# Converting all object type columns to integer to maintain consistency across the dataframe\n",
    "bfdata['Gender'] = bfdata['Gender'].astype(int)\n",
    "bfdata['Age'] = pd.to_numeric(bfdata.Age)\n",
    "\n",
    "bfdata['City_Category'] = bfdata['City_Category'].astype(int)\n",
    "bfdata['Stay_In_Current_City_Years'] = bfdata['Stay_In_Current_City_Years'].astype(int)\n"
   ]
  },
  {
   "cell_type": "code",
   "execution_count": 14,
   "metadata": {
    "colab": {
     "base_uri": "https://localhost:8080/",
     "height": 224
    },
    "colab_type": "code",
    "id": "1iInnM4GBV_R",
    "outputId": "23649519-34ad-415a-ccd1-46b04d03bbe9"
   },
   "outputs": [
    {
     "data": {
      "text/html": [
       "<div>\n",
       "<style scoped>\n",
       "    .dataframe tbody tr th:only-of-type {\n",
       "        vertical-align: middle;\n",
       "    }\n",
       "\n",
       "    .dataframe tbody tr th {\n",
       "        vertical-align: top;\n",
       "    }\n",
       "\n",
       "    .dataframe thead th {\n",
       "        text-align: right;\n",
       "    }\n",
       "</style>\n",
       "<table border=\"1\" class=\"dataframe\">\n",
       "  <thead>\n",
       "    <tr style=\"text-align: right;\">\n",
       "      <th></th>\n",
       "      <th>User_ID</th>\n",
       "      <th>Product_ID</th>\n",
       "      <th>Gender</th>\n",
       "      <th>Age</th>\n",
       "      <th>Occupation</th>\n",
       "      <th>City_Category</th>\n",
       "      <th>Stay_In_Current_City_Years</th>\n",
       "      <th>Marital_Status</th>\n",
       "      <th>Product_Category_1</th>\n",
       "      <th>Product_Category_2</th>\n",
       "      <th>Product_Category_3</th>\n",
       "      <th>Purchase</th>\n",
       "    </tr>\n",
       "  </thead>\n",
       "  <tbody>\n",
       "    <tr>\n",
       "      <th>0</th>\n",
       "      <td>1000001</td>\n",
       "      <td>P00069042</td>\n",
       "      <td>0</td>\n",
       "      <td>17</td>\n",
       "      <td>10</td>\n",
       "      <td>0</td>\n",
       "      <td>2</td>\n",
       "      <td>0</td>\n",
       "      <td>3</td>\n",
       "      <td>0</td>\n",
       "      <td>0</td>\n",
       "      <td>8370</td>\n",
       "    </tr>\n",
       "    <tr>\n",
       "      <th>1</th>\n",
       "      <td>1000001</td>\n",
       "      <td>P00248942</td>\n",
       "      <td>0</td>\n",
       "      <td>17</td>\n",
       "      <td>10</td>\n",
       "      <td>0</td>\n",
       "      <td>2</td>\n",
       "      <td>0</td>\n",
       "      <td>1</td>\n",
       "      <td>6</td>\n",
       "      <td>14</td>\n",
       "      <td>15200</td>\n",
       "    </tr>\n",
       "    <tr>\n",
       "      <th>2</th>\n",
       "      <td>1000001</td>\n",
       "      <td>P00087842</td>\n",
       "      <td>0</td>\n",
       "      <td>17</td>\n",
       "      <td>10</td>\n",
       "      <td>0</td>\n",
       "      <td>2</td>\n",
       "      <td>0</td>\n",
       "      <td>12</td>\n",
       "      <td>0</td>\n",
       "      <td>0</td>\n",
       "      <td>1422</td>\n",
       "    </tr>\n",
       "    <tr>\n",
       "      <th>3</th>\n",
       "      <td>1000001</td>\n",
       "      <td>P00085442</td>\n",
       "      <td>0</td>\n",
       "      <td>17</td>\n",
       "      <td>10</td>\n",
       "      <td>0</td>\n",
       "      <td>2</td>\n",
       "      <td>0</td>\n",
       "      <td>12</td>\n",
       "      <td>14</td>\n",
       "      <td>0</td>\n",
       "      <td>1057</td>\n",
       "    </tr>\n",
       "    <tr>\n",
       "      <th>4</th>\n",
       "      <td>1000002</td>\n",
       "      <td>P00285442</td>\n",
       "      <td>1</td>\n",
       "      <td>58</td>\n",
       "      <td>16</td>\n",
       "      <td>2</td>\n",
       "      <td>4</td>\n",
       "      <td>0</td>\n",
       "      <td>8</td>\n",
       "      <td>0</td>\n",
       "      <td>0</td>\n",
       "      <td>7969</td>\n",
       "    </tr>\n",
       "  </tbody>\n",
       "</table>\n",
       "</div>"
      ],
      "text/plain": [
       "   User_ID Product_ID  Gender  ...  Product_Category_2  Product_Category_3  Purchase\n",
       "0  1000001  P00069042       0  ...                   0                   0      8370\n",
       "1  1000001  P00248942       0  ...                   6                  14     15200\n",
       "2  1000001  P00087842       0  ...                   0                   0      1422\n",
       "3  1000001  P00085442       0  ...                  14                   0      1057\n",
       "4  1000002  P00285442       1  ...                   0                   0      7969\n",
       "\n",
       "[5 rows x 12 columns]"
      ]
     },
     "execution_count": 14,
     "metadata": {
      "tags": []
     },
     "output_type": "execute_result"
    }
   ],
   "source": [
    "#To display the 5 rows from the dataframe\n",
    "bfdata.head()"
   ]
  },
  {
   "cell_type": "code",
   "execution_count": 15,
   "metadata": {
    "colab": {
     "base_uri": "https://localhost:8080/",
     "height": 238
    },
    "colab_type": "code",
    "id": "ufWG0gLuBV9f",
    "outputId": "f04fd0cd-e678-4e06-da14-abdf5f1de546"
   },
   "outputs": [
    {
     "data": {
      "text/plain": [
       "User_ID                       0\n",
       "Product_ID                    0\n",
       "Gender                        0\n",
       "Age                           0\n",
       "Occupation                    0\n",
       "City_Category                 0\n",
       "Stay_In_Current_City_Years    0\n",
       "Marital_Status                0\n",
       "Product_Category_1            0\n",
       "Product_Category_2            0\n",
       "Product_Category_3            0\n",
       "Purchase                      0\n",
       "dtype: int64"
      ]
     },
     "execution_count": 15,
     "metadata": {
      "tags": []
     },
     "output_type": "execute_result"
    }
   ],
   "source": [
    "# Now, we can see that there are no null values\n",
    "bfdata.isnull().sum()"
   ]
  },
  {
   "cell_type": "code",
   "execution_count": 16,
   "metadata": {
    "colab": {
     "base_uri": "https://localhost:8080/",
     "height": 410
    },
    "colab_type": "code",
    "id": "4dTff9WQEk7u",
    "outputId": "df55ec4e-0c1c-4dec-c9ea-b13cc024006a"
   },
   "outputs": [
    {
     "data": {
      "text/html": [
       "<div>\n",
       "<style scoped>\n",
       "    .dataframe tbody tr th:only-of-type {\n",
       "        vertical-align: middle;\n",
       "    }\n",
       "\n",
       "    .dataframe tbody tr th {\n",
       "        vertical-align: top;\n",
       "    }\n",
       "\n",
       "    .dataframe thead th {\n",
       "        text-align: right;\n",
       "    }\n",
       "</style>\n",
       "<table border=\"1\" class=\"dataframe\">\n",
       "  <thead>\n",
       "    <tr style=\"text-align: right;\">\n",
       "      <th></th>\n",
       "      <th>User_ID</th>\n",
       "      <th>Gender</th>\n",
       "      <th>Age</th>\n",
       "      <th>Occupation</th>\n",
       "      <th>City_Category</th>\n",
       "      <th>Stay_In_Current_City_Years</th>\n",
       "      <th>Marital_Status</th>\n",
       "      <th>Product_Category_1</th>\n",
       "      <th>Product_Category_2</th>\n",
       "      <th>Product_Category_3</th>\n",
       "      <th>Purchase</th>\n",
       "    </tr>\n",
       "  </thead>\n",
       "  <tbody>\n",
       "    <tr>\n",
       "      <th>User_ID</th>\n",
       "      <td>1.000000</td>\n",
       "      <td>-0.031898</td>\n",
       "      <td>0.042706</td>\n",
       "      <td>-0.023024</td>\n",
       "      <td>0.024107</td>\n",
       "      <td>-0.030655</td>\n",
       "      <td>0.018732</td>\n",
       "      <td>0.003687</td>\n",
       "      <td>0.003663</td>\n",
       "      <td>0.003938</td>\n",
       "      <td>0.005389</td>\n",
       "    </tr>\n",
       "    <tr>\n",
       "      <th>Gender</th>\n",
       "      <td>-0.031898</td>\n",
       "      <td>1.000000</td>\n",
       "      <td>-0.002849</td>\n",
       "      <td>0.117294</td>\n",
       "      <td>-0.004129</td>\n",
       "      <td>0.015392</td>\n",
       "      <td>-0.010379</td>\n",
       "      <td>-0.045661</td>\n",
       "      <td>-0.001580</td>\n",
       "      <td>0.035813</td>\n",
       "      <td>0.060086</td>\n",
       "    </tr>\n",
       "    <tr>\n",
       "      <th>Age</th>\n",
       "      <td>0.042706</td>\n",
       "      <td>-0.002849</td>\n",
       "      <td>1.000000</td>\n",
       "      <td>0.097696</td>\n",
       "      <td>0.105707</td>\n",
       "      <td>-0.001741</td>\n",
       "      <td>0.310924</td>\n",
       "      <td>0.061229</td>\n",
       "      <td>0.020640</td>\n",
       "      <td>-0.006015</td>\n",
       "      <td>0.018064</td>\n",
       "    </tr>\n",
       "    <tr>\n",
       "      <th>Occupation</th>\n",
       "      <td>-0.023024</td>\n",
       "      <td>0.117294</td>\n",
       "      <td>0.097696</td>\n",
       "      <td>1.000000</td>\n",
       "      <td>0.033781</td>\n",
       "      <td>0.031203</td>\n",
       "      <td>0.024691</td>\n",
       "      <td>-0.008114</td>\n",
       "      <td>0.006792</td>\n",
       "      <td>0.011941</td>\n",
       "      <td>0.021104</td>\n",
       "    </tr>\n",
       "    <tr>\n",
       "      <th>City_Category</th>\n",
       "      <td>0.024107</td>\n",
       "      <td>-0.004129</td>\n",
       "      <td>0.105707</td>\n",
       "      <td>0.033781</td>\n",
       "      <td>1.000000</td>\n",
       "      <td>0.019948</td>\n",
       "      <td>0.040173</td>\n",
       "      <td>-0.027444</td>\n",
       "      <td>0.019535</td>\n",
       "      <td>0.037751</td>\n",
       "      <td>0.068507</td>\n",
       "    </tr>\n",
       "    <tr>\n",
       "      <th>Stay_In_Current_City_Years</th>\n",
       "      <td>-0.030655</td>\n",
       "      <td>0.015392</td>\n",
       "      <td>-0.001741</td>\n",
       "      <td>0.031203</td>\n",
       "      <td>0.019948</td>\n",
       "      <td>1.000000</td>\n",
       "      <td>-0.012663</td>\n",
       "      <td>-0.004182</td>\n",
       "      <td>0.001244</td>\n",
       "      <td>0.001992</td>\n",
       "      <td>0.005470</td>\n",
       "    </tr>\n",
       "    <tr>\n",
       "      <th>Marital_Status</th>\n",
       "      <td>0.018732</td>\n",
       "      <td>-0.010379</td>\n",
       "      <td>0.310924</td>\n",
       "      <td>0.024691</td>\n",
       "      <td>0.040173</td>\n",
       "      <td>-0.012663</td>\n",
       "      <td>1.000000</td>\n",
       "      <td>0.020546</td>\n",
       "      <td>0.001146</td>\n",
       "      <td>-0.004363</td>\n",
       "      <td>0.000129</td>\n",
       "    </tr>\n",
       "    <tr>\n",
       "      <th>Product_Category_1</th>\n",
       "      <td>0.003687</td>\n",
       "      <td>-0.045661</td>\n",
       "      <td>0.061229</td>\n",
       "      <td>-0.008114</td>\n",
       "      <td>-0.027444</td>\n",
       "      <td>-0.004182</td>\n",
       "      <td>0.020546</td>\n",
       "      <td>1.000000</td>\n",
       "      <td>-0.040730</td>\n",
       "      <td>-0.389048</td>\n",
       "      <td>-0.314125</td>\n",
       "    </tr>\n",
       "    <tr>\n",
       "      <th>Product_Category_2</th>\n",
       "      <td>0.003663</td>\n",
       "      <td>-0.001580</td>\n",
       "      <td>0.020640</td>\n",
       "      <td>0.006792</td>\n",
       "      <td>0.019535</td>\n",
       "      <td>0.001244</td>\n",
       "      <td>0.001146</td>\n",
       "      <td>-0.040730</td>\n",
       "      <td>1.000000</td>\n",
       "      <td>0.090284</td>\n",
       "      <td>0.038395</td>\n",
       "    </tr>\n",
       "    <tr>\n",
       "      <th>Product_Category_3</th>\n",
       "      <td>0.003938</td>\n",
       "      <td>0.035813</td>\n",
       "      <td>-0.006015</td>\n",
       "      <td>0.011941</td>\n",
       "      <td>0.037751</td>\n",
       "      <td>0.001992</td>\n",
       "      <td>-0.004363</td>\n",
       "      <td>-0.389048</td>\n",
       "      <td>0.090284</td>\n",
       "      <td>1.000000</td>\n",
       "      <td>0.284120</td>\n",
       "    </tr>\n",
       "    <tr>\n",
       "      <th>Purchase</th>\n",
       "      <td>0.005389</td>\n",
       "      <td>0.060086</td>\n",
       "      <td>0.018064</td>\n",
       "      <td>0.021104</td>\n",
       "      <td>0.068507</td>\n",
       "      <td>0.005470</td>\n",
       "      <td>0.000129</td>\n",
       "      <td>-0.314125</td>\n",
       "      <td>0.038395</td>\n",
       "      <td>0.284120</td>\n",
       "      <td>1.000000</td>\n",
       "    </tr>\n",
       "  </tbody>\n",
       "</table>\n",
       "</div>"
      ],
      "text/plain": [
       "                             User_ID    Gender  ...  Product_Category_3  Purchase\n",
       "User_ID                     1.000000 -0.031898  ...            0.003938  0.005389\n",
       "Gender                     -0.031898  1.000000  ...            0.035813  0.060086\n",
       "Age                         0.042706 -0.002849  ...           -0.006015  0.018064\n",
       "Occupation                 -0.023024  0.117294  ...            0.011941  0.021104\n",
       "City_Category               0.024107 -0.004129  ...            0.037751  0.068507\n",
       "Stay_In_Current_City_Years -0.030655  0.015392  ...            0.001992  0.005470\n",
       "Marital_Status              0.018732 -0.010379  ...           -0.004363  0.000129\n",
       "Product_Category_1          0.003687 -0.045661  ...           -0.389048 -0.314125\n",
       "Product_Category_2          0.003663 -0.001580  ...            0.090284  0.038395\n",
       "Product_Category_3          0.003938  0.035813  ...            1.000000  0.284120\n",
       "Purchase                    0.005389  0.060086  ...            0.284120  1.000000\n",
       "\n",
       "[11 rows x 11 columns]"
      ]
     },
     "execution_count": 16,
     "metadata": {
      "tags": []
     },
     "output_type": "execute_result"
    }
   ],
   "source": [
    "#To check the correlation among different parameters in the dataframe\n",
    "bfdata.corr()"
   ]
  },
  {
   "cell_type": "code",
   "execution_count": 52,
   "metadata": {
    "colab": {
     "base_uri": "https://localhost:8080/",
     "height": 469
    },
    "colab_type": "code",
    "id": "LKK387xCEyoW",
    "outputId": "8b1b63af-3d99-49af-8c44-29a88a395613"
   },
   "outputs": [
    {
     "data": {
      "text/plain": [
       "<matplotlib.axes._subplots.AxesSubplot at 0x7f3b4f3c86a0>"
      ]
     },
     "execution_count": 52,
     "metadata": {
      "tags": []
     },
     "output_type": "execute_result"
    },
    {
     "data": {
      "image/png": "[encoded data removed]",
      "text/plain": [
       "<Figure size 1152x360 with 2 Axes>"
      ]
     },
     "metadata": {
      "needs_background": "light",
      "tags": []
     },
     "output_type": "display_data"
    }
   ],
   "source": [
    "#To plot correaltion matrxix from the dataset\n",
    "plt.figure(figsize = (16,5))\n",
    "matrix = np.triu(bfdata.corr())\n",
    "sns.heatmap(bfdata.corr(), annot=True, mask=matrix , vmin=-1, vmax=1, center= 0, cmap= 'coolwarm', linewidths=3, linecolor='black')"
   ]
  },
  {
   "cell_type": "code",
   "execution_count": 18,
   "metadata": {
    "colab": {},
    "colab_type": "code",
    "id": "HAJ4tfPmEy4D"
   },
   "outputs": [],
   "source": [
    "# Creating a Pairplot for all features for better understanding of relation between the variables\n",
    "#plt.style.use('default')\n",
    "#sns.pairplot(train)\n",
    "#plt.show()"
   ]
  },
  {
   "cell_type": "code",
   "execution_count": 19,
   "metadata": {
    "colab": {
     "base_uri": "https://localhost:8080/",
     "height": 224
    },
    "colab_type": "code",
    "id": "DKYbs7dPEy2c",
    "outputId": "899aa651-c5c1-4a03-a5de-034b60a5b3b8"
   },
   "outputs": [
    {
     "data": {
      "text/html": [
       "<div>\n",
       "<style scoped>\n",
       "    .dataframe tbody tr th:only-of-type {\n",
       "        vertical-align: middle;\n",
       "    }\n",
       "\n",
       "    .dataframe tbody tr th {\n",
       "        vertical-align: top;\n",
       "    }\n",
       "\n",
       "    .dataframe thead th {\n",
       "        text-align: right;\n",
       "    }\n",
       "</style>\n",
       "<table border=\"1\" class=\"dataframe\">\n",
       "  <thead>\n",
       "    <tr style=\"text-align: right;\">\n",
       "      <th></th>\n",
       "      <th>User_ID</th>\n",
       "      <th>Product_ID</th>\n",
       "      <th>Gender</th>\n",
       "      <th>Age</th>\n",
       "      <th>Occupation</th>\n",
       "      <th>City_Category</th>\n",
       "      <th>Stay_In_Current_City_Years</th>\n",
       "      <th>Marital_Status</th>\n",
       "      <th>Product_Category_1</th>\n",
       "      <th>Product_Category_2</th>\n",
       "      <th>Product_Category_3</th>\n",
       "      <th>Purchase</th>\n",
       "    </tr>\n",
       "  </thead>\n",
       "  <tbody>\n",
       "    <tr>\n",
       "      <th>0</th>\n",
       "      <td>1000001</td>\n",
       "      <td>P00069042</td>\n",
       "      <td>0</td>\n",
       "      <td>17</td>\n",
       "      <td>10</td>\n",
       "      <td>0</td>\n",
       "      <td>2</td>\n",
       "      <td>0</td>\n",
       "      <td>3</td>\n",
       "      <td>0</td>\n",
       "      <td>0</td>\n",
       "      <td>8370</td>\n",
       "    </tr>\n",
       "    <tr>\n",
       "      <th>1</th>\n",
       "      <td>1000001</td>\n",
       "      <td>P00248942</td>\n",
       "      <td>0</td>\n",
       "      <td>17</td>\n",
       "      <td>10</td>\n",
       "      <td>0</td>\n",
       "      <td>2</td>\n",
       "      <td>0</td>\n",
       "      <td>1</td>\n",
       "      <td>6</td>\n",
       "      <td>14</td>\n",
       "      <td>15200</td>\n",
       "    </tr>\n",
       "    <tr>\n",
       "      <th>2</th>\n",
       "      <td>1000001</td>\n",
       "      <td>P00087842</td>\n",
       "      <td>0</td>\n",
       "      <td>17</td>\n",
       "      <td>10</td>\n",
       "      <td>0</td>\n",
       "      <td>2</td>\n",
       "      <td>0</td>\n",
       "      <td>12</td>\n",
       "      <td>0</td>\n",
       "      <td>0</td>\n",
       "      <td>1422</td>\n",
       "    </tr>\n",
       "    <tr>\n",
       "      <th>3</th>\n",
       "      <td>1000001</td>\n",
       "      <td>P00085442</td>\n",
       "      <td>0</td>\n",
       "      <td>17</td>\n",
       "      <td>10</td>\n",
       "      <td>0</td>\n",
       "      <td>2</td>\n",
       "      <td>0</td>\n",
       "      <td>12</td>\n",
       "      <td>14</td>\n",
       "      <td>0</td>\n",
       "      <td>1057</td>\n",
       "    </tr>\n",
       "    <tr>\n",
       "      <th>4</th>\n",
       "      <td>1000002</td>\n",
       "      <td>P00285442</td>\n",
       "      <td>1</td>\n",
       "      <td>58</td>\n",
       "      <td>16</td>\n",
       "      <td>2</td>\n",
       "      <td>4</td>\n",
       "      <td>0</td>\n",
       "      <td>8</td>\n",
       "      <td>0</td>\n",
       "      <td>0</td>\n",
       "      <td>7969</td>\n",
       "    </tr>\n",
       "  </tbody>\n",
       "</table>\n",
       "</div>"
      ],
      "text/plain": [
       "   User_ID Product_ID  Gender  ...  Product_Category_2  Product_Category_3  Purchase\n",
       "0  1000001  P00069042       0  ...                   0                   0      8370\n",
       "1  1000001  P00248942       0  ...                   6                  14     15200\n",
       "2  1000001  P00087842       0  ...                   0                   0      1422\n",
       "3  1000001  P00085442       0  ...                  14                   0      1057\n",
       "4  1000002  P00285442       1  ...                   0                   0      7969\n",
       "\n",
       "[5 rows x 12 columns]"
      ]
     },
     "execution_count": 19,
     "metadata": {
      "tags": []
     },
     "output_type": "execute_result"
    }
   ],
   "source": [
    "bfdata.head()"
   ]
  },
  {
   "cell_type": "code",
   "execution_count": 20,
   "metadata": {
    "colab": {},
    "colab_type": "code",
    "id": "AtyyEUl2oCVM"
   },
   "outputs": [],
   "source": [
    "#Category Cout\n",
    "\n",
    "conditions = [\n",
    "    (bfdata['Product_Category_1'] != 0) & (bfdata['Product_Category_2'] == 0) & (bfdata['Product_Category_3'] == 0),\n",
    "    (bfdata['Product_Category_1'] != 0) & (bfdata['Product_Category_2'] != 0) & (bfdata['Product_Category_3'] == 0),\n",
    "    (bfdata['Product_Category_1'] != 0) & (bfdata['Product_Category_2'] != 0) & (bfdata['Product_Category_3'] != 0)]\n",
    "choices = [1, 2, 3]\n",
    "bfdata['Category_Count'] = np.select(conditions, choices, default=0)"
   ]
  },
  {
   "cell_type": "code",
   "execution_count": 21,
   "metadata": {
    "colab": {},
    "colab_type": "code",
    "id": "zphDAki_oCRy"
   },
   "outputs": [],
   "source": [
    "#No of users per product"
   ]
  },
  {
   "cell_type": "code",
   "execution_count": 22,
   "metadata": {
    "colab": {
     "base_uri": "https://localhost:8080/",
     "height": 272
    },
    "colab_type": "code",
    "id": "AxLsnkN_rBjz",
    "outputId": "5a25ea31-a943-49e3-9750-f2a655dbd3ed"
   },
   "outputs": [
    {
     "name": "stderr",
     "output_type": "stream",
     "text": [
      "/usr/local/lib/python3.6/dist-packages/pandas/core/ops/array_ops.py:253: FutureWarning:\n",
      "\n",
      "elementwise comparison failed; returning scalar instead, but in the future will perform elementwise comparison\n",
      "\n"
     ]
    },
    {
     "data": {
      "text/html": [
       "<div>\n",
       "<style scoped>\n",
       "    .dataframe tbody tr th:only-of-type {\n",
       "        vertical-align: middle;\n",
       "    }\n",
       "\n",
       "    .dataframe tbody tr th {\n",
       "        vertical-align: top;\n",
       "    }\n",
       "\n",
       "    .dataframe thead th {\n",
       "        text-align: right;\n",
       "    }\n",
       "</style>\n",
       "<table border=\"1\" class=\"dataframe\">\n",
       "  <thead>\n",
       "    <tr style=\"text-align: right;\">\n",
       "      <th></th>\n",
       "      <th>Product_ID</th>\n",
       "      <th>Users_per_product</th>\n",
       "    </tr>\n",
       "  </thead>\n",
       "  <tbody>\n",
       "    <tr>\n",
       "      <th>0</th>\n",
       "      <td>P00000142</td>\n",
       "      <td>1130</td>\n",
       "    </tr>\n",
       "    <tr>\n",
       "      <th>1</th>\n",
       "      <td>P00000242</td>\n",
       "      <td>371</td>\n",
       "    </tr>\n",
       "    <tr>\n",
       "      <th>2</th>\n",
       "      <td>P00000342</td>\n",
       "      <td>238</td>\n",
       "    </tr>\n",
       "    <tr>\n",
       "      <th>3</th>\n",
       "      <td>P00000442</td>\n",
       "      <td>92</td>\n",
       "    </tr>\n",
       "    <tr>\n",
       "      <th>4</th>\n",
       "      <td>P00000542</td>\n",
       "      <td>146</td>\n",
       "    </tr>\n",
       "  </tbody>\n",
       "</table>\n",
       "</div>"
      ],
      "text/plain": [
       "  Product_ID  Users_per_product\n",
       "0  P00000142               1130\n",
       "1  P00000242                371\n",
       "2  P00000342                238\n",
       "3  P00000442                 92\n",
       "4  P00000542                146"
      ]
     },
     "execution_count": 22,
     "metadata": {
      "tags": []
     },
     "output_type": "execute_result"
    }
   ],
   "source": [
    "\n",
    "\n",
    "bfdata[bfdata.User_ID == 'Users_Per_product'].groupby(['Product_ID']).count()\n",
    "\n",
    "\n",
    "\n",
    "required_product_data = bfdata[['Product_ID']]\n",
    "\n",
    "required_product_data['Users_per_product'] = 1\n",
    "\n",
    "grouped_product_data = required_product_data.groupby(['Product_ID']).sum()\n",
    "grouped_product_data = grouped_product_data.reset_index()\n",
    "\n",
    "grouped_product_data.head()"
   ]
  },
  {
   "cell_type": "code",
   "execution_count": 23,
   "metadata": {
    "colab": {},
    "colab_type": "code",
    "id": "fAThOYntoCK1"
   },
   "outputs": [],
   "source": [
    "#Merging two dataframes together\n",
    "bfdata = pd.merge(bfdata, grouped_product_data, how='inner', on = 'Product_ID')"
   ]
  },
  {
   "cell_type": "code",
   "execution_count": 24,
   "metadata": {
    "colab": {},
    "colab_type": "code",
    "id": "TDqbO_JdoCEY"
   },
   "outputs": [],
   "source": [
    "#Calculating Purchase per product\n",
    "purchase_data = bfdata.groupby('Product_ID')['Purchase'].agg(['sum'])\n"
   ]
  },
  {
   "cell_type": "code",
   "execution_count": 25,
   "metadata": {
    "colab": {},
    "colab_type": "code",
    "id": "N4UzbwryS9D-"
   },
   "outputs": [],
   "source": [
    "#Merging two dataframes together\n",
    "bfdata = pd.merge(bfdata, purchase_data, how='inner', on = 'Product_ID')"
   ]
  },
  {
   "cell_type": "code",
   "execution_count": 26,
   "metadata": {
    "colab": {},
    "colab_type": "code",
    "id": "G8c5oLQhUeZf"
   },
   "outputs": [],
   "source": [
    "bfdata = bfdata.rename({'sum':'Total_purchase_per_product'},axis=1)"
   ]
  },
  {
   "cell_type": "code",
   "execution_count": 27,
   "metadata": {
    "colab": {},
    "colab_type": "code",
    "id": "ubR-OJHGUeU6"
   },
   "outputs": [],
   "source": [
    "#Product Demand\n",
    "# 'Low' is replaced with 0\n",
    "# 'Med' is replaced with 1\n",
    "# 'High' is replaced with 2\n",
    "\n",
    "\n",
    "bin_labels_3 = ['0', '1', '2']\n",
    "bfdata['Product Demand'] = pd.qcut(bfdata['Users_per_product'],\n",
    "                              q=[0, .25, .75, 1],\n",
    "                              labels=bin_labels_3)\n",
    "\n"
   ]
  },
  {
   "cell_type": "code",
   "execution_count": 28,
   "metadata": {
    "colab": {
     "base_uri": "https://localhost:8080/",
     "height": 241
    },
    "colab_type": "code",
    "id": "zjldF0O8oCI6",
    "outputId": "e4f8e0f3-9f4b-4d01-8b1b-8c82cc828854"
   },
   "outputs": [
    {
     "data": {
      "text/html": [
       "<div>\n",
       "<style scoped>\n",
       "    .dataframe tbody tr th:only-of-type {\n",
       "        vertical-align: middle;\n",
       "    }\n",
       "\n",
       "    .dataframe tbody tr th {\n",
       "        vertical-align: top;\n",
       "    }\n",
       "\n",
       "    .dataframe thead th {\n",
       "        text-align: right;\n",
       "    }\n",
       "</style>\n",
       "<table border=\"1\" class=\"dataframe\">\n",
       "  <thead>\n",
       "    <tr style=\"text-align: right;\">\n",
       "      <th></th>\n",
       "      <th>User_ID</th>\n",
       "      <th>Product_ID</th>\n",
       "      <th>Gender</th>\n",
       "      <th>Age</th>\n",
       "      <th>Occupation</th>\n",
       "      <th>City_Category</th>\n",
       "      <th>Stay_In_Current_City_Years</th>\n",
       "      <th>Marital_Status</th>\n",
       "      <th>Product_Category_1</th>\n",
       "      <th>Product_Category_2</th>\n",
       "      <th>Product_Category_3</th>\n",
       "      <th>Purchase</th>\n",
       "      <th>Category_Count</th>\n",
       "      <th>Users_per_product</th>\n",
       "      <th>Total_purchase_per_product</th>\n",
       "      <th>Product Demand</th>\n",
       "    </tr>\n",
       "  </thead>\n",
       "  <tbody>\n",
       "    <tr>\n",
       "      <th>0</th>\n",
       "      <td>1000001</td>\n",
       "      <td>P00069042</td>\n",
       "      <td>0</td>\n",
       "      <td>17</td>\n",
       "      <td>10</td>\n",
       "      <td>0</td>\n",
       "      <td>2</td>\n",
       "      <td>0</td>\n",
       "      <td>3</td>\n",
       "      <td>0</td>\n",
       "      <td>0</td>\n",
       "      <td>8370</td>\n",
       "      <td>1</td>\n",
       "      <td>221</td>\n",
       "      <td>2621891</td>\n",
       "      <td>1</td>\n",
       "    </tr>\n",
       "    <tr>\n",
       "      <th>1</th>\n",
       "      <td>1000149</td>\n",
       "      <td>P00069042</td>\n",
       "      <td>1</td>\n",
       "      <td>35</td>\n",
       "      <td>1</td>\n",
       "      <td>1</td>\n",
       "      <td>2</td>\n",
       "      <td>1</td>\n",
       "      <td>3</td>\n",
       "      <td>0</td>\n",
       "      <td>0</td>\n",
       "      <td>10715</td>\n",
       "      <td>1</td>\n",
       "      <td>221</td>\n",
       "      <td>2621891</td>\n",
       "      <td>1</td>\n",
       "    </tr>\n",
       "    <tr>\n",
       "      <th>2</th>\n",
       "      <td>1000541</td>\n",
       "      <td>P00069042</td>\n",
       "      <td>0</td>\n",
       "      <td>25</td>\n",
       "      <td>4</td>\n",
       "      <td>2</td>\n",
       "      <td>3</td>\n",
       "      <td>0</td>\n",
       "      <td>3</td>\n",
       "      <td>0</td>\n",
       "      <td>0</td>\n",
       "      <td>11037</td>\n",
       "      <td>1</td>\n",
       "      <td>221</td>\n",
       "      <td>2621891</td>\n",
       "      <td>1</td>\n",
       "    </tr>\n",
       "    <tr>\n",
       "      <th>3</th>\n",
       "      <td>1000698</td>\n",
       "      <td>P00069042</td>\n",
       "      <td>1</td>\n",
       "      <td>25</td>\n",
       "      <td>4</td>\n",
       "      <td>0</td>\n",
       "      <td>1</td>\n",
       "      <td>0</td>\n",
       "      <td>3</td>\n",
       "      <td>0</td>\n",
       "      <td>0</td>\n",
       "      <td>8009</td>\n",
       "      <td>1</td>\n",
       "      <td>221</td>\n",
       "      <td>2621891</td>\n",
       "      <td>1</td>\n",
       "    </tr>\n",
       "    <tr>\n",
       "      <th>4</th>\n",
       "      <td>1000951</td>\n",
       "      <td>P00069042</td>\n",
       "      <td>1</td>\n",
       "      <td>50</td>\n",
       "      <td>2</td>\n",
       "      <td>1</td>\n",
       "      <td>4</td>\n",
       "      <td>1</td>\n",
       "      <td>3</td>\n",
       "      <td>0</td>\n",
       "      <td>0</td>\n",
       "      <td>13346</td>\n",
       "      <td>1</td>\n",
       "      <td>221</td>\n",
       "      <td>2621891</td>\n",
       "      <td>1</td>\n",
       "    </tr>\n",
       "  </tbody>\n",
       "</table>\n",
       "</div>"
      ],
      "text/plain": [
       "   User_ID Product_ID  ...  Total_purchase_per_product  Product Demand\n",
       "0  1000001  P00069042  ...                     2621891               1\n",
       "1  1000149  P00069042  ...                     2621891               1\n",
       "2  1000541  P00069042  ...                     2621891               1\n",
       "3  1000698  P00069042  ...                     2621891               1\n",
       "4  1000951  P00069042  ...                     2621891               1\n",
       "\n",
       "[5 rows x 16 columns]"
      ]
     },
     "execution_count": 28,
     "metadata": {
      "tags": []
     },
     "output_type": "execute_result"
    }
   ],
   "source": [
    "bfdata.head()"
   ]
  },
  {
   "cell_type": "code",
   "execution_count": 29,
   "metadata": {
    "colab": {
     "base_uri": "https://localhost:8080/",
     "height": 306
    },
    "colab_type": "code",
    "id": "gqc11osyoCGm",
    "outputId": "06092820-0a40-4500-8469-5506b54887b0"
   },
   "outputs": [
    {
     "data": {
      "text/plain": [
       "User_ID                       537577\n",
       "Product_ID                    537577\n",
       "Gender                        537577\n",
       "Age                           537577\n",
       "Occupation                    537577\n",
       "City_Category                 537577\n",
       "Stay_In_Current_City_Years    537577\n",
       "Marital_Status                537577\n",
       "Product_Category_1            537577\n",
       "Product_Category_2            537577\n",
       "Product_Category_3            537577\n",
       "Purchase                      537577\n",
       "Category_Count                537577\n",
       "Users_per_product             537577\n",
       "Total_purchase_per_product    537577\n",
       "Product Demand                537577\n",
       "dtype: int64"
      ]
     },
     "execution_count": 29,
     "metadata": {
      "tags": []
     },
     "output_type": "execute_result"
    }
   ],
   "source": [
    "bfdata.count()"
   ]
  },
  {
   "cell_type": "code",
   "execution_count": 30,
   "metadata": {
    "colab": {},
    "colab_type": "code",
    "id": "PsU7zOfsePK5"
   },
   "outputs": [],
   "source": [
    "#To convert the categorial data to numeric data in Product Demand\n",
    "bfdata['Product Demand'] = pd.to_numeric(bfdata['Product Demand'])"
   ]
  },
  {
   "cell_type": "code",
   "execution_count": 31,
   "metadata": {
    "colab": {},
    "colab_type": "code",
    "id": "U7efq4tYBV02"
   },
   "outputs": [],
   "source": [
    "#Splitting the dataset in Training and Testing\n",
    "from sklearn.model_selection import train_test_split\n",
    "\n",
    "train, test = train_test_split(bfdata, test_size=0.3)"
   ]
  },
  {
   "cell_type": "code",
   "execution_count": 32,
   "metadata": {
    "colab": {
     "base_uri": "https://localhost:8080/",
     "height": 241
    },
    "colab_type": "code",
    "id": "D1lCFwEZBVx8",
    "outputId": "582e2c50-c0a0-45bc-b705-c89f8300a18b"
   },
   "outputs": [
    {
     "data": {
      "text/html": [
       "<div>\n",
       "<style scoped>\n",
       "    .dataframe tbody tr th:only-of-type {\n",
       "        vertical-align: middle;\n",
       "    }\n",
       "\n",
       "    .dataframe tbody tr th {\n",
       "        vertical-align: top;\n",
       "    }\n",
       "\n",
       "    .dataframe thead th {\n",
       "        text-align: right;\n",
       "    }\n",
       "</style>\n",
       "<table border=\"1\" class=\"dataframe\">\n",
       "  <thead>\n",
       "    <tr style=\"text-align: right;\">\n",
       "      <th></th>\n",
       "      <th>User_ID</th>\n",
       "      <th>Product_ID</th>\n",
       "      <th>Gender</th>\n",
       "      <th>Age</th>\n",
       "      <th>Occupation</th>\n",
       "      <th>City_Category</th>\n",
       "      <th>Stay_In_Current_City_Years</th>\n",
       "      <th>Marital_Status</th>\n",
       "      <th>Product_Category_1</th>\n",
       "      <th>Product_Category_2</th>\n",
       "      <th>Product_Category_3</th>\n",
       "      <th>Purchase</th>\n",
       "      <th>Category_Count</th>\n",
       "      <th>Users_per_product</th>\n",
       "      <th>Total_purchase_per_product</th>\n",
       "      <th>Product Demand</th>\n",
       "    </tr>\n",
       "  </thead>\n",
       "  <tbody>\n",
       "    <tr>\n",
       "      <th>51735</th>\n",
       "      <td>1001447</td>\n",
       "      <td>P00021742</td>\n",
       "      <td>1</td>\n",
       "      <td>25</td>\n",
       "      <td>4</td>\n",
       "      <td>0</td>\n",
       "      <td>0</td>\n",
       "      <td>0</td>\n",
       "      <td>5</td>\n",
       "      <td>0</td>\n",
       "      <td>0</td>\n",
       "      <td>6990</td>\n",
       "      <td>1</td>\n",
       "      <td>762</td>\n",
       "      <td>5322085</td>\n",
       "      <td>2</td>\n",
       "    </tr>\n",
       "    <tr>\n",
       "      <th>427411</th>\n",
       "      <td>1000335</td>\n",
       "      <td>P00010942</td>\n",
       "      <td>1</td>\n",
       "      <td>45</td>\n",
       "      <td>18</td>\n",
       "      <td>2</td>\n",
       "      <td>0</td>\n",
       "      <td>1</td>\n",
       "      <td>1</td>\n",
       "      <td>2</td>\n",
       "      <td>6</td>\n",
       "      <td>3932</td>\n",
       "      <td>3</td>\n",
       "      <td>303</td>\n",
       "      <td>4042695</td>\n",
       "      <td>1</td>\n",
       "    </tr>\n",
       "    <tr>\n",
       "      <th>180800</th>\n",
       "      <td>1005704</td>\n",
       "      <td>P00001742</td>\n",
       "      <td>0</td>\n",
       "      <td>25</td>\n",
       "      <td>4</td>\n",
       "      <td>1</td>\n",
       "      <td>3</td>\n",
       "      <td>0</td>\n",
       "      <td>8</td>\n",
       "      <td>14</td>\n",
       "      <td>0</td>\n",
       "      <td>8059</td>\n",
       "      <td>2</td>\n",
       "      <td>449</td>\n",
       "      <td>3585330</td>\n",
       "      <td>1</td>\n",
       "    </tr>\n",
       "    <tr>\n",
       "      <th>96260</th>\n",
       "      <td>1003313</td>\n",
       "      <td>P00142142</td>\n",
       "      <td>1</td>\n",
       "      <td>45</td>\n",
       "      <td>20</td>\n",
       "      <td>0</td>\n",
       "      <td>2</td>\n",
       "      <td>0</td>\n",
       "      <td>1</td>\n",
       "      <td>2</td>\n",
       "      <td>15</td>\n",
       "      <td>12092</td>\n",
       "      <td>3</td>\n",
       "      <td>702</td>\n",
       "      <td>8293846</td>\n",
       "      <td>2</td>\n",
       "    </tr>\n",
       "    <tr>\n",
       "      <th>423919</th>\n",
       "      <td>1005523</td>\n",
       "      <td>P00212042</td>\n",
       "      <td>1</td>\n",
       "      <td>45</td>\n",
       "      <td>0</td>\n",
       "      <td>1</td>\n",
       "      <td>2</td>\n",
       "      <td>1</td>\n",
       "      <td>13</td>\n",
       "      <td>15</td>\n",
       "      <td>0</td>\n",
       "      <td>567</td>\n",
       "      <td>2</td>\n",
       "      <td>224</td>\n",
       "      <td>147633</td>\n",
       "      <td>1</td>\n",
       "    </tr>\n",
       "  </tbody>\n",
       "</table>\n",
       "</div>"
      ],
      "text/plain": [
       "        User_ID Product_ID  ...  Total_purchase_per_product  Product Demand\n",
       "51735   1001447  P00021742  ...                     5322085               2\n",
       "427411  1000335  P00010942  ...                     4042695               1\n",
       "180800  1005704  P00001742  ...                     3585330               1\n",
       "96260   1003313  P00142142  ...                     8293846               2\n",
       "423919  1005523  P00212042  ...                      147633               1\n",
       "\n",
       "[5 rows x 16 columns]"
      ]
     },
     "execution_count": 32,
     "metadata": {
      "tags": []
     },
     "output_type": "execute_result"
    }
   ],
   "source": [
    "train.head()\n"
   ]
  },
  {
   "cell_type": "code",
   "execution_count": 33,
   "metadata": {
    "colab": {},
    "colab_type": "code",
    "id": "SDyclUJpEk1s"
   },
   "outputs": [],
   "source": [
    "X = train.drop(['Purchase','Product_ID'], axis=1)\n",
    "Y = train['Purchase']\n"
   ]
  },
  {
   "cell_type": "code",
   "execution_count": 34,
   "metadata": {
    "colab": {},
    "colab_type": "code",
    "id": "c9j5HNvaGrjl"
   },
   "outputs": [],
   "source": [
    "x_test = test.drop(['Product_ID'], axis=1)\n",
    "x_test = test.iloc[:,1:]"
   ]
  },
  {
   "cell_type": "markdown",
   "metadata": {
    "colab_type": "text",
    "id": "CSMSfDrMzhbe"
   },
   "source": [
    "Feature Selection\n",
    "\n"
   ]
  },
  {
   "cell_type": "code",
   "execution_count": 35,
   "metadata": {
    "colab": {},
    "colab_type": "code",
    "id": "6SyEdPhwzZHz"
   },
   "outputs": [],
   "source": [
    "from sklearn.ensemble import ExtraTreesRegressor\n",
    "selector = ExtraTreesRegressor()"
   ]
  },
  {
   "cell_type": "code",
   "execution_count": 36,
   "metadata": {
    "colab": {
     "base_uri": "https://localhost:8080/",
     "height": 136
    },
    "colab_type": "code",
    "id": "LZSqh3BxzZXG",
    "outputId": "772d556a-66d3-46df-8ee0-420ff641b2de"
   },
   "outputs": [
    {
     "data": {
      "text/plain": [
       "ExtraTreesRegressor(bootstrap=False, ccp_alpha=0.0, criterion='mse',\n",
       "                    max_depth=None, max_features='auto', max_leaf_nodes=None,\n",
       "                    max_samples=None, min_impurity_decrease=0.0,\n",
       "                    min_impurity_split=None, min_samples_leaf=1,\n",
       "                    min_samples_split=2, min_weight_fraction_leaf=0.0,\n",
       "                    n_estimators=100, n_jobs=None, oob_score=False,\n",
       "                    random_state=None, verbose=0, warm_start=False)"
      ]
     },
     "execution_count": 36,
     "metadata": {
      "tags": []
     },
     "output_type": "execute_result"
    }
   ],
   "source": [
    "selector.fit(X, Y)"
   ]
  },
  {
   "cell_type": "code",
   "execution_count": 37,
   "metadata": {
    "colab": {},
    "colab_type": "code",
    "id": "vC4vPhSjzZVY"
   },
   "outputs": [],
   "source": [
    "feature_imp = selector.feature_importances_"
   ]
  },
  {
   "cell_type": "code",
   "execution_count": 38,
   "metadata": {
    "colab": {
     "base_uri": "https://localhost:8080/",
     "height": 68
    },
    "colab_type": "code",
    "id": "bHGB9Cw3zZTi",
    "outputId": "c93020e3-762a-4826-c982-54f26f11f2b8"
   },
   "outputs": [
    {
     "name": "stdout",
     "output_type": "stream",
     "text": [
      "[0.07658611 0.0110553  0.03796789 0.05689287 0.02196444 0.04100276\n",
      " 0.01520404 0.24204327 0.00999593 0.01311372 0.02222295 0.09522334\n",
      " 0.30706511 0.04966229]\n"
     ]
    }
   ],
   "source": [
    "print(feature_imp)"
   ]
  },
  {
   "cell_type": "code",
   "execution_count": 39,
   "metadata": {
    "colab": {
     "base_uri": "https://localhost:8080/",
     "height": 255
    },
    "colab_type": "code",
    "id": "KZJWw04pzZGi",
    "outputId": "6d1025d3-31c0-4322-ce52-fff0e83aeb37"
   },
   "outputs": [
    {
     "name": "stdout",
     "output_type": "stream",
     "text": [
      "0 7.66\n",
      "1 1.11\n",
      "2 3.8\n",
      "3 5.69\n",
      "4 2.2\n",
      "5 4.1\n",
      "6 1.52\n",
      "7 24.2\n",
      "8 1.0\n",
      "9 1.31\n",
      "10 2.22\n",
      "11 9.52\n",
      "12 30.71\n",
      "13 4.97\n"
     ]
    }
   ],
   "source": [
    "for index, val in enumerate(feature_imp):\n",
    "    print(index, round((val * 100), 2))\n",
    "    "
   ]
  },
  {
   "cell_type": "code",
   "execution_count": 40,
   "metadata": {
    "colab": {
     "base_uri": "https://localhost:8080/",
     "height": 374
    },
    "colab_type": "code",
    "id": "6VA8rQ4ozZCU",
    "outputId": "42ba9d25-e88a-4110-e78e-c3479c0b2cc5"
   },
   "outputs": [
    {
     "name": "stdout",
     "output_type": "stream",
     "text": [
      "<class 'pandas.core.frame.DataFrame'>\n",
      "Int64Index: 376303 entries, 175439 to 511103\n",
      "Data columns (total 14 columns):\n",
      " #   Column                      Non-Null Count   Dtype\n",
      "---  ------                      --------------   -----\n",
      " 0   User_ID                     376303 non-null  int64\n",
      " 1   Gender                      376303 non-null  int64\n",
      " 2   Age                         376303 non-null  int64\n",
      " 3   Occupation                  376303 non-null  int64\n",
      " 4   City_Category               376303 non-null  int64\n",
      " 5   Stay_In_Current_City_Years  376303 non-null  int64\n",
      " 6   Marital_Status              376303 non-null  int64\n",
      " 7   Product_Category_1          376303 non-null  int64\n",
      " 8   Product_Category_2          376303 non-null  int64\n",
      " 9   Product_Category_3          376303 non-null  int64\n",
      " 10  Category_Count              376303 non-null  int64\n",
      " 11  Users_per_product           376303 non-null  int64\n",
      " 12  Total_purchase_per_product  376303 non-null  int64\n",
      " 13  Product Demand              376303 non-null  int64\n",
      "dtypes: int64(14)\n",
      "memory usage: 43.1 MB\n"
     ]
    }
   ],
   "source": [
    "X.info()"
   ]
  },
  {
   "cell_type": "markdown",
   "metadata": {
    "colab_type": "text",
    "id": "Olbkmj828PR5"
   },
   "source": [
    "Feature Scaling"
   ]
  },
  {
   "cell_type": "code",
   "execution_count": 36,
   "metadata": {
    "colab": {},
    "colab_type": "code",
    "id": "QC2gPBklzZEb"
   },
   "outputs": [],
   "source": [
    "from sklearn.preprocessing import StandardScaler\n",
    "scaler = StandardScaler()"
   ]
  },
  {
   "cell_type": "markdown",
   "metadata": {
    "colab_type": "text",
    "id": "QPgiUcgw8zfR"
   },
   "source": [
    "Splitting into Train and Test"
   ]
  },
  {
   "cell_type": "code",
   "execution_count": 35,
   "metadata": {
    "colab": {},
    "colab_type": "code",
    "id": "B61BllJNzY7u"
   },
   "outputs": [],
   "source": [
    "from sklearn.model_selection import train_test_split\n",
    "X_train, X_test, Y_train, Y_test = train_test_split(X, Y, test_size = 0.2, random_state = 42)"
   ]
  },
  {
   "cell_type": "code",
   "execution_count": 37,
   "metadata": {
    "colab": {
     "base_uri": "https://localhost:8080/",
     "height": 85
    },
    "colab_type": "code",
    "id": "4ZOrnKHu9H_d",
    "outputId": "9db6a4d4-b805-455e-a97b-238d9d90f227"
   },
   "outputs": [
    {
     "name": "stdout",
     "output_type": "stream",
     "text": [
      "X_train shape: (301042, 14)\n",
      "X_test shape: (75261, 14)\n",
      "Y_train shape: (301042,)\n",
      "Y_test shape: (75261,)\n"
     ]
    }
   ],
   "source": [
    "print(\"X_train shape:\", X_train.shape)\n",
    "print(\"X_test shape:\", X_test.shape)\n",
    "print(\"Y_train shape:\", Y_train.shape)\n",
    "print(\"Y_test shape:\", Y_test.shape)"
   ]
  },
  {
   "cell_type": "markdown",
   "metadata": {
    "colab_type": "text",
    "id": "2TiJEHP49fP_"
   },
   "source": [
    "Data Modelling"
   ]
  },
  {
   "cell_type": "markdown",
   "metadata": {
    "colab_type": "text",
    "id": "wEbtzzNY9k1q"
   },
   "source": [
    "**Linear Regression**"
   ]
  },
  {
   "cell_type": "code",
   "execution_count": 40,
   "metadata": {
    "colab": {},
    "colab_type": "code",
    "id": "y-R5x5-S9H7B"
   },
   "outputs": [],
   "source": [
    "from sklearn.linear_model import LinearRegression\n",
    "lin_reg = LinearRegression()"
   ]
  },
  {
   "cell_type": "code",
   "execution_count": 45,
   "metadata": {
    "colab": {
     "base_uri": "https://localhost:8080/",
     "height": 34
    },
    "colab_type": "code",
    "id": "I8iDNqdI9Hyn",
    "outputId": "afcfa415-d776-4705-996f-0b52fbb20fb9"
   },
   "outputs": [
    {
     "data": {
      "text/plain": [
       "LinearRegression(copy_X=True, fit_intercept=True, n_jobs=None, normalize=False)"
      ]
     },
     "execution_count": 45,
     "metadata": {
      "tags": []
     },
     "output_type": "execute_result"
    }
   ],
   "source": [
    "lin_reg.fit(X_train, Y_train)"
   ]
  },
  {
   "cell_type": "code",
   "execution_count": 46,
   "metadata": {
    "colab": {},
    "colab_type": "code",
    "id": "698Q3lhk96oe"
   },
   "outputs": [],
   "source": [
    "Y_pred_lin_reg = lin_reg.predict(X_test)"
   ]
  },
  {
   "cell_type": "markdown",
   "metadata": {
    "colab_type": "text",
    "id": "8au0Nf_m-JVo"
   },
   "source": [
    "**KNN Regression**"
   ]
  },
  {
   "cell_type": "code",
   "execution_count": 47,
   "metadata": {
    "colab": {},
    "colab_type": "code",
    "id": "so4cMN8l-R4v"
   },
   "outputs": [],
   "source": [
    "from sklearn.neighbors import KNeighborsRegressor\n",
    "knn = KNeighborsRegressor()"
   ]
  },
  {
   "cell_type": "code",
   "execution_count": 48,
   "metadata": {
    "colab": {
     "base_uri": "https://localhost:8080/",
     "height": 68
    },
    "colab_type": "code",
    "id": "tTBcGmPQ96ik",
    "outputId": "3d40ac59-c5b8-496c-e23a-d05090a77af2"
   },
   "outputs": [
    {
     "data": {
      "text/plain": [
       "KNeighborsRegressor(algorithm='auto', leaf_size=30, metric='minkowski',\n",
       "                    metric_params=None, n_jobs=None, n_neighbors=5, p=2,\n",
       "                    weights='uniform')"
      ]
     },
     "execution_count": 48,
     "metadata": {
      "tags": []
     },
     "output_type": "execute_result"
    }
   ],
   "source": [
    "knn.fit(X_train, Y_train)"
   ]
  },
  {
   "cell_type": "code",
   "execution_count": 49,
   "metadata": {
    "colab": {},
    "colab_type": "code",
    "id": "cNf6YYyv-rSX"
   },
   "outputs": [],
   "source": [
    "Y_pred_knn = knn.predict(X_test)"
   ]
  },
  {
   "cell_type": "markdown",
   "metadata": {
    "colab_type": "text",
    "id": "HCLQw0eh_BYM"
   },
   "source": [
    "**Decision Tree Regression**"
   ]
  },
  {
   "cell_type": "code",
   "execution_count": 50,
   "metadata": {
    "colab": {},
    "colab_type": "code",
    "id": "PTeAj449-9aA"
   },
   "outputs": [],
   "source": [
    "from sklearn.tree import DecisionTreeRegressor\n",
    "dec_tree = DecisionTreeRegressor()"
   ]
  },
  {
   "cell_type": "code",
   "execution_count": 51,
   "metadata": {
    "colab": {
     "base_uri": "https://localhost:8080/",
     "height": 119
    },
    "colab_type": "code",
    "id": "MgwJlPms_Xq7",
    "outputId": "1b14a0d0-c544-44a2-c513-0a135b5a0295"
   },
   "outputs": [
    {
     "data": {
      "text/plain": [
       "DecisionTreeRegressor(ccp_alpha=0.0, criterion='mse', max_depth=None,\n",
       "                      max_features=None, max_leaf_nodes=None,\n",
       "                      min_impurity_decrease=0.0, min_impurity_split=None,\n",
       "                      min_samples_leaf=1, min_samples_split=2,\n",
       "                      min_weight_fraction_leaf=0.0, presort='deprecated',\n",
       "                      random_state=None, splitter='best')"
      ]
     },
     "execution_count": 51,
     "metadata": {
      "tags": []
     },
     "output_type": "execute_result"
    }
   ],
   "source": [
    "dec_tree.fit(X_train, Y_train)"
   ]
  },
  {
   "cell_type": "code",
   "execution_count": 52,
   "metadata": {
    "colab": {},
    "colab_type": "code",
    "id": "zY7Vulcp-9VF"
   },
   "outputs": [],
   "source": [
    "Y_pred_dec = dec_tree.predict(X_test)"
   ]
  },
  {
   "cell_type": "markdown",
   "metadata": {
    "colab_type": "text",
    "id": "SIhhIS1KHU7V"
   },
   "source": [
    "Random Forest Regression"
   ]
  },
  {
   "cell_type": "code",
   "execution_count": 41,
   "metadata": {
    "colab": {},
    "colab_type": "code",
    "id": "zKviUQcOGrfp"
   },
   "outputs": [],
   "source": [
    "from sklearn.ensemble import RandomForestRegressor\n",
    "ran_for = RandomForestRegressor()"
   ]
  },
  {
   "cell_type": "code",
   "execution_count": 54,
   "metadata": {
    "colab": {
     "base_uri": "https://localhost:8080/",
     "height": 136
    },
    "colab_type": "code",
    "id": "mTBjmlZmH_9g",
    "outputId": "e34bbd78-d746-4f28-8f3d-864a7d6f17c2"
   },
   "outputs": [
    {
     "data": {
      "text/plain": [
       "RandomForestRegressor(bootstrap=True, ccp_alpha=0.0, criterion='mse',\n",
       "                      max_depth=None, max_features='auto', max_leaf_nodes=None,\n",
       "                      max_samples=None, min_impurity_decrease=0.0,\n",
       "                      min_impurity_split=None, min_samples_leaf=1,\n",
       "                      min_samples_split=2, min_weight_fraction_leaf=0.0,\n",
       "                      n_estimators=100, n_jobs=None, oob_score=False,\n",
       "                      random_state=None, verbose=0, warm_start=False)"
      ]
     },
     "execution_count": 54,
     "metadata": {
      "tags": []
     },
     "output_type": "execute_result"
    }
   ],
   "source": [
    "ran_for.fit(X_train, Y_train)"
   ]
  },
  {
   "cell_type": "code",
   "execution_count": 55,
   "metadata": {
    "colab": {},
    "colab_type": "code",
    "id": "lM9HvM0SJdPh"
   },
   "outputs": [],
   "source": [
    "Y_pred_ran_for = ran_for.predict(X_test)"
   ]
  },
  {
   "cell_type": "markdown",
   "metadata": {
    "colab_type": "text",
    "id": "TmSMfKhxCPFr"
   },
   "source": [
    "****Random Forest Accuracy ****"
   ]
  },
  {
   "cell_type": "code",
   "execution_count": 38,
   "metadata": {
    "colab": {},
    "colab_type": "code",
    "id": "doJ69vvwJv-E"
   },
   "outputs": [],
   "source": [
    "from sklearn.metrics import mean_squared_error\n",
    "from sklearn.metrics import r2_score"
   ]
  },
  {
   "cell_type": "code",
   "execution_count": 57,
   "metadata": {
    "colab": {
     "base_uri": "https://localhost:8080/",
     "height": 68
    },
    "colab_type": "code",
    "id": "n4EtEKUpJkbF",
    "outputId": "3d3b9724-895e-4fa4-cef3-7e96bd6ce2f6"
   },
   "outputs": [
    {
     "name": "stdout",
     "output_type": "stream",
     "text": [
      "Random forest regression: \n",
      "RMSE: 2703.1085677304286\n",
      "R2 score: 0.7052240734774626\n"
     ]
    }
   ],
   "source": [
    "print(\"Random forest regression: \")\n",
    "print(\"RMSE:\",np.sqrt(mean_squared_error(Y_test, Y_pred_ran_for)))\n",
    "print(\"R2 score:\", r2_score(Y_test, Y_pred_ran_for))"
   ]
  },
  {
   "cell_type": "markdown",
   "metadata": {
    "colab_type": "text",
    "id": "JEf4f1P-auHQ"
   },
   "source": [
    "**XGBoost Regression**"
   ]
  },
  {
   "cell_type": "code",
   "execution_count": 42,
   "metadata": {
    "colab": {},
    "colab_type": "code",
    "id": "YfD1iq6RRLSY"
   },
   "outputs": [],
   "source": [
    "from xgboost import XGBRegressor\n",
    "xgb = XGBRegressor(random_state = 42)"
   ]
  },
  {
   "cell_type": "code",
   "execution_count": 59,
   "metadata": {
    "colab": {
     "base_uri": "https://localhost:8080/",
     "height": 153
    },
    "colab_type": "code",
    "id": "3Pb6yHhEa2N1",
    "outputId": "3b4e35cc-cd6f-4a00-9d1b-f260bd7842e7"
   },
   "outputs": [
    {
     "name": "stdout",
     "output_type": "stream",
     "text": [
      "[15:19:27] WARNING: /workspace/src/objective/regression_obj.cu:152: reg:linear is now deprecated in favor of reg:squarederror.\n"
     ]
    },
    {
     "data": {
      "text/plain": [
       "XGBRegressor(base_score=0.5, booster='gbtree', colsample_bylevel=1,\n",
       "             colsample_bynode=1, colsample_bytree=1, gamma=0,\n",
       "             importance_type='gain', learning_rate=0.1, max_delta_step=0,\n",
       "             max_depth=3, min_child_weight=1, missing=None, n_estimators=100,\n",
       "             n_jobs=1, nthread=None, objective='reg:linear', random_state=42,\n",
       "             reg_alpha=0, reg_lambda=1, scale_pos_weight=1, seed=None,\n",
       "             silent=None, subsample=1, verbosity=1)"
      ]
     },
     "execution_count": 59,
     "metadata": {
      "tags": []
     },
     "output_type": "execute_result"
    }
   ],
   "source": [
    "xgb.fit(X_train, Y_train)"
   ]
  },
  {
   "cell_type": "code",
   "execution_count": 60,
   "metadata": {
    "colab": {},
    "colab_type": "code",
    "id": "HgbwOXdba2SJ"
   },
   "outputs": [],
   "source": [
    "Y_pred_xgb = xgb.predict(X_test)"
   ]
  },
  {
   "cell_type": "markdown",
   "metadata": {
    "colab_type": "text",
    "id": "0pYlSBK2bJ4L"
   },
   "source": [
    "**Model Evaluation**"
   ]
  },
  {
   "cell_type": "code",
   "execution_count": 61,
   "metadata": {
    "colab": {
     "base_uri": "https://localhost:8080/",
     "height": 68
    },
    "colab_type": "code",
    "id": "UBpTgPt8a2Mc",
    "outputId": "286aa0eb-4a7f-44c7-a3c0-83a0e63a2b4c"
   },
   "outputs": [
    {
     "name": "stdout",
     "output_type": "stream",
     "text": [
      "Linear Regression: \n",
      "RMSE: 3587.5679565299097\n",
      "R2 score: 0.480763387868279\n"
     ]
    }
   ],
   "source": [
    "print(\"Linear Regression: \")\n",
    "Lin_rmse = np.sqrt(mean_squared_error(Y_test, Y_pred_lin_reg))\n",
    "print(\"RMSE:\",Lin_rmse)\n",
    "Lin_score = r2_score(Y_test, Y_pred_lin_reg)\n",
    "print(\"R2 score:\", Lin_score )"
   ]
  },
  {
   "cell_type": "code",
   "execution_count": 62,
   "metadata": {
    "colab": {
     "base_uri": "https://localhost:8080/",
     "height": 68
    },
    "colab_type": "code",
    "id": "IJ2wFa07bRia",
    "outputId": "b07083f2-08cc-480a-976d-b7cde618cdf5"
   },
   "outputs": [
    {
     "name": "stdout",
     "output_type": "stream",
     "text": [
      "KNN regression: \n",
      "RMSE: 3017.2522404597908\n",
      "R2 score: 0.6327276178441417\n"
     ]
    }
   ],
   "source": [
    "print(\"KNN regression: \")\n",
    "print(\"RMSE:\",np.sqrt(mean_squared_error(Y_test, Y_pred_knn)))\n",
    "print(\"R2 score:\", r2_score(Y_test, Y_pred_knn))"
   ]
  },
  {
   "cell_type": "code",
   "execution_count": 63,
   "metadata": {
    "colab": {
     "base_uri": "https://localhost:8080/",
     "height": 68
    },
    "colab_type": "code",
    "id": "z1sBpTncbRl3",
    "outputId": "61acdd68-fab3-47c7-8163-fb0f288bb852"
   },
   "outputs": [
    {
     "name": "stdout",
     "output_type": "stream",
     "text": [
      "Decision tree regression: \n",
      "RMSE: 3763.7560392467976\n",
      "R2 score: 0.42851088131076986\n"
     ]
    }
   ],
   "source": [
    "print(\"Decision tree regression: \")\n",
    "print(\"RMSE:\",np.sqrt(mean_squared_error(Y_test, Y_pred_dec)))\n",
    "print(\"R2 score:\", r2_score(Y_test, Y_pred_dec))"
   ]
  },
  {
   "cell_type": "code",
   "execution_count": 64,
   "metadata": {
    "colab": {
     "base_uri": "https://localhost:8080/",
     "height": 68
    },
    "colab_type": "code",
    "id": "iq9dAvKQbRpr",
    "outputId": "af16470e-8d75-4ffc-fabe-b8d448353970"
   },
   "outputs": [
    {
     "name": "stdout",
     "output_type": "stream",
     "text": [
      "Random forest regression: \n",
      "RMSE: 2703.1085677304286\n",
      "R2 score: 0.7052240734774626\n"
     ]
    }
   ],
   "source": [
    "print(\"Random forest regression: \")\n",
    "Ran_rmse = np.sqrt(mean_squared_error(Y_test, Y_pred_ran_for))\n",
    "print(\"RMSE:\",Ran_rmse)\n",
    "Ran_score = r2_score(Y_test, Y_pred_ran_for)\n",
    "print(\"R2 score:\", Ran_score)"
   ]
  },
  {
   "cell_type": "code",
   "execution_count": 65,
   "metadata": {
    "colab": {
     "base_uri": "https://localhost:8080/",
     "height": 68
    },
    "colab_type": "code",
    "id": "I3rKn5P-bbUr",
    "outputId": "4c38b06e-454d-4117-d33f-a837169cafd8"
   },
   "outputs": [
    {
     "name": "stdout",
     "output_type": "stream",
     "text": [
      "XGB regression: \n",
      "RMSE: 2748.2418479156886\n",
      "R2 score: 0.6952982617609555\n"
     ]
    }
   ],
   "source": [
    "print(\"XGB regression: \")\n",
    "XGB_rmse = np.sqrt(mean_squared_error(Y_test, Y_pred_xgb))\n",
    "print(\"RMSE:\", XGB_rmse)\n",
    "XGB_score = r2_score(Y_test, Y_pred_xgb)\n",
    "print(\"R2 score:\", XGB_score)"
   ]
  },
  {
   "cell_type": "markdown",
   "metadata": {
    "colab_type": "text",
    "id": "8D8yKd1uSbVF"
   },
   "source": [
    "Comparison Graph"
   ]
  },
  {
   "cell_type": "code",
   "execution_count": 66,
   "metadata": {
    "colab": {
     "base_uri": "https://localhost:8080/",
     "height": 142
    },
    "colab_type": "code",
    "id": "qxs9xBSOSan_",
    "outputId": "915a1778-880d-404d-9638-d72c55781178"
   },
   "outputs": [
    {
     "data": {
      "text/html": [
       "<div>\n",
       "<style scoped>\n",
       "    .dataframe tbody tr th:only-of-type {\n",
       "        vertical-align: middle;\n",
       "    }\n",
       "\n",
       "    .dataframe tbody tr th {\n",
       "        vertical-align: top;\n",
       "    }\n",
       "\n",
       "    .dataframe thead th {\n",
       "        text-align: right;\n",
       "    }\n",
       "</style>\n",
       "<table border=\"1\" class=\"dataframe\">\n",
       "  <thead>\n",
       "    <tr style=\"text-align: right;\">\n",
       "      <th></th>\n",
       "      <th>RMSE</th>\n",
       "      <th>R2_Square</th>\n",
       "    </tr>\n",
       "  </thead>\n",
       "  <tbody>\n",
       "    <tr>\n",
       "      <th>Linear Regression</th>\n",
       "      <td>3587.567957</td>\n",
       "      <td>0.480763</td>\n",
       "    </tr>\n",
       "    <tr>\n",
       "      <th>RDF</th>\n",
       "      <td>2703.108568</td>\n",
       "      <td>0.705224</td>\n",
       "    </tr>\n",
       "    <tr>\n",
       "      <th>XGB</th>\n",
       "      <td>2748.241848</td>\n",
       "      <td>0.695298</td>\n",
       "    </tr>\n",
       "  </tbody>\n",
       "</table>\n",
       "</div>"
      ],
      "text/plain": [
       "                          RMSE  R2_Square\n",
       "Linear Regression  3587.567957   0.480763\n",
       "RDF                2703.108568   0.705224\n",
       "XGB                2748.241848   0.695298"
      ]
     },
     "execution_count": 66,
     "metadata": {
      "tags": []
     },
     "output_type": "execute_result"
    }
   ],
   "source": [
    "#Accuracy Score Comparison between Linear Regression, Random Forest and XGB\n",
    "\n",
    "import pandas as pd\n",
    "\n",
    "rmse=[Lin_rmse,Ran_rmse,XGB_rmse]\n",
    "\n",
    "r2square=[Lin_score,Ran_score,XGB_score]\n",
    "\n",
    "col={'RMSE':rmse,'R2_Square':r2square}\n",
    "models=['Linear Regression','RDF','XGB']\n",
    "dfm=pd.DataFrame(data=col,index=models)\n",
    "dfm"
   ]
  },
  {
   "cell_type": "code",
   "execution_count": 67,
   "metadata": {
    "colab": {
     "base_uri": "https://localhost:8080/",
     "height": 453
    },
    "colab_type": "code",
    "id": "V-qAL3KgSamJ",
    "outputId": "60b3aee1-4547-4203-ff47-f912b8fecd1c"
   },
   "outputs": [
    {
     "data": {
      "text/plain": [
       "Text(0, 0.5, 'Values')"
      ]
     },
     "execution_count": 67,
     "metadata": {
      "tags": []
     },
     "output_type": "execute_result"
    },
    {
     "data": {
      "image/png": "[encoded data removed]",
      "text/plain": [
       "<Figure size 432x288 with 1 Axes>"
      ]
     },
     "metadata": {
      "tags": []
     },
     "output_type": "display_data"
    }
   ],
   "source": [
    "#PLotting the table using Bar Plot with respect to RMSE\n",
    "from matplotlib import pyplot as plt\n",
    "import matplotlib\n",
    "matplotlib.style.use('fivethirtyeight')\n",
    "\n",
    "plotdata = pd.DataFrame({\n",
    "    \"RMSE\":[Lin_rmse,Ran_rmse,XGB_rmse],\n",
    "    }, \n",
    "    index=['Linear Regression','RDF','XGB']\n",
    ")\n",
    "plotdata.plot(kind=\"bar\")\n",
    "\n",
    "\n",
    "\n",
    "#dfm.plot(kind='bar')\n",
    "plt.title(\"Model Comparison based on RMSE\")\n",
    "\n",
    "plt.xlabel(\"Machine Learning Algorithms\")\n",
    "plt.ylabel(\"Values\")\n"
   ]
  },
  {
   "cell_type": "code",
   "execution_count": 68,
   "metadata": {
    "colab": {
     "base_uri": "https://localhost:8080/",
     "height": 453
    },
    "colab_type": "code",
    "id": "cJp7Yshn3Mut",
    "outputId": "307e35e3-7169-4092-b09e-53d606ee4ef3"
   },
   "outputs": [
    {
     "data": {
      "text/plain": [
       "Text(0, 0.5, 'Values')"
      ]
     },
     "execution_count": 68,
     "metadata": {
      "tags": []
     },
     "output_type": "execute_result"
    },
    {
     "data": {
      "image/png": "[encoded data removed]",
      "text/plain": [
       "<Figure size 432x288 with 1 Axes>"
      ]
     },
     "metadata": {
      "tags": []
     },
     "output_type": "display_data"
    }
   ],
   "source": [
    "#PLotting the table using Bar Plot with respect to accuracy that is Rsquare\n",
    "from matplotlib import pyplot as plt\n",
    "import matplotlib\n",
    "matplotlib.style.use('fivethirtyeight')\n",
    "\n",
    "plotdata = pd.DataFrame({\n",
    "    \"R2Square\":[Lin_score,Ran_score,XGB_score],\n",
    "    }, \n",
    "    index=['Linear Regression','RDF','XGB']\n",
    ")\n",
    "plotdata.plot(kind=\"bar\")\n",
    "\n",
    "\n",
    "\n",
    "#dfm.plot(kind='bar')\n",
    "plt.title(\"Model Comparison based on R2Square\")\n",
    "\n",
    "plt.xlabel(\"Machine Learning Algorithms\")\n",
    "plt.ylabel(\"Values\")\n"
   ]
  },
  {
   "cell_type": "markdown",
   "metadata": {
    "colab_type": "text",
    "id": "LjfWM2XFf35k"
   },
   "source": [
    "Feature Importance"
   ]
  },
  {
   "cell_type": "code",
   "execution_count": 43,
   "metadata": {
    "colab": {
     "base_uri": "https://localhost:8080/",
     "height": 34
    },
    "colab_type": "code",
    "id": "_EY0oeeNloX1",
    "outputId": "1f13336b-acd7-4709-a065-d3f085225b4a"
   },
   "outputs": [
    {
     "data": {
      "text/plain": [
       "0.7045248761392691"
      ]
     },
     "execution_count": 43,
     "metadata": {
      "tags": []
     },
     "output_type": "execute_result"
    }
   ],
   "source": [
    "#Baseline Model used for the comparison of the RFECV results\n",
    "\n",
    "#Baseline Random Regression Model\n",
    "rfe_base = RandomForestRegressor()\n",
    "\n",
    "base_model = rfe_base.fit(X_train,Y_train)\n",
    "\n",
    "base_model.score(X_test, Y_test)\n",
    "\n",
    "\n"
   ]
  },
  {
   "cell_type": "code",
   "execution_count": 44,
   "metadata": {
    "colab": {},
    "colab_type": "code",
    "id": "_-1rlq1tf2gj"
   },
   "outputs": [],
   "source": [
    "#Recursive Feature Engineering\n",
    "from sklearn.feature_selection import RFE\n",
    "rfe = RFE(estimator=rfe_base, step=1)\n",
    "rfe = rfe.fit(X_train, Y_train)"
   ]
  },
  {
   "cell_type": "code",
   "execution_count": 45,
   "metadata": {
    "colab": {
     "base_uri": "https://localhost:8080/",
     "height": 483
    },
    "colab_type": "code",
    "id": "6JMTj7JTf2tH",
    "outputId": "15373d9a-46ba-43b6-be64-869d84bb036a"
   },
   "outputs": [
    {
     "data": {
      "text/html": [
       "<div>\n",
       "<style scoped>\n",
       "    .dataframe tbody tr th:only-of-type {\n",
       "        vertical-align: middle;\n",
       "    }\n",
       "\n",
       "    .dataframe tbody tr th {\n",
       "        vertical-align: top;\n",
       "    }\n",
       "\n",
       "    .dataframe thead th {\n",
       "        text-align: right;\n",
       "    }\n",
       "</style>\n",
       "<table border=\"1\" class=\"dataframe\">\n",
       "  <thead>\n",
       "    <tr style=\"text-align: right;\">\n",
       "      <th></th>\n",
       "      <th>Feature</th>\n",
       "      <th>Ranking</th>\n",
       "    </tr>\n",
       "  </thead>\n",
       "  <tbody>\n",
       "    <tr>\n",
       "      <th>0</th>\n",
       "      <td>User_ID</td>\n",
       "      <td>1</td>\n",
       "    </tr>\n",
       "    <tr>\n",
       "      <th>2</th>\n",
       "      <td>Age</td>\n",
       "      <td>1</td>\n",
       "    </tr>\n",
       "    <tr>\n",
       "      <th>3</th>\n",
       "      <td>Occupation</td>\n",
       "      <td>1</td>\n",
       "    </tr>\n",
       "    <tr>\n",
       "      <th>5</th>\n",
       "      <td>Stay_In_Current_City_Years</td>\n",
       "      <td>1</td>\n",
       "    </tr>\n",
       "    <tr>\n",
       "      <th>7</th>\n",
       "      <td>Product_Category_1</td>\n",
       "      <td>1</td>\n",
       "    </tr>\n",
       "    <tr>\n",
       "      <th>11</th>\n",
       "      <td>Users_per_product</td>\n",
       "      <td>1</td>\n",
       "    </tr>\n",
       "    <tr>\n",
       "      <th>12</th>\n",
       "      <td>Total_purchase_per_product</td>\n",
       "      <td>1</td>\n",
       "    </tr>\n",
       "    <tr>\n",
       "      <th>4</th>\n",
       "      <td>City_Category</td>\n",
       "      <td>2</td>\n",
       "    </tr>\n",
       "    <tr>\n",
       "      <th>8</th>\n",
       "      <td>Product_Category_2</td>\n",
       "      <td>3</td>\n",
       "    </tr>\n",
       "    <tr>\n",
       "      <th>6</th>\n",
       "      <td>Marital_Status</td>\n",
       "      <td>4</td>\n",
       "    </tr>\n",
       "    <tr>\n",
       "      <th>1</th>\n",
       "      <td>Gender</td>\n",
       "      <td>5</td>\n",
       "    </tr>\n",
       "    <tr>\n",
       "      <th>9</th>\n",
       "      <td>Product_Category_3</td>\n",
       "      <td>6</td>\n",
       "    </tr>\n",
       "    <tr>\n",
       "      <th>10</th>\n",
       "      <td>Category_Count</td>\n",
       "      <td>7</td>\n",
       "    </tr>\n",
       "    <tr>\n",
       "      <th>13</th>\n",
       "      <td>Product Demand</td>\n",
       "      <td>8</td>\n",
       "    </tr>\n",
       "  </tbody>\n",
       "</table>\n",
       "</div>"
      ],
      "text/plain": [
       "                       Feature  Ranking\n",
       "0                      User_ID        1\n",
       "2                          Age        1\n",
       "3                   Occupation        1\n",
       "5   Stay_In_Current_City_Years        1\n",
       "7           Product_Category_1        1\n",
       "11           Users_per_product        1\n",
       "12  Total_purchase_per_product        1\n",
       "4                City_Category        2\n",
       "8           Product_Category_2        3\n",
       "6               Marital_Status        4\n",
       "1                       Gender        5\n",
       "9           Product_Category_3        6\n",
       "10              Category_Count        7\n",
       "13              Product Demand        8"
      ]
     },
     "execution_count": 45,
     "metadata": {
      "tags": []
     },
     "output_type": "execute_result"
    }
   ],
   "source": [
    "#This feature selection is used to select best feature with respect to Linear Regression.\n",
    "selected_rfe_features = pd.DataFrame({'Feature':list(X_train.columns),\n",
    "                                      'Ranking':rfe.ranking_})\n",
    "selected_rfe_features.sort_values(by='Ranking')"
   ]
  },
  {
   "cell_type": "code",
   "execution_count": 47,
   "metadata": {
    "colab": {},
    "colab_type": "code",
    "id": "PGJR7XQ1g8fs"
   },
   "outputs": [],
   "source": [
    "X_train_rfe = rfe.transform(X_train)\n",
    "X_test_rfe = rfe.transform(X_test)"
   ]
  },
  {
   "cell_type": "code",
   "execution_count": 48,
   "metadata": {
    "colab": {
     "base_uri": "https://localhost:8080/",
     "height": 68
    },
    "colab_type": "code",
    "id": "7byzoXKBg8cw",
    "outputId": "2ac64be6-0588-4df1-8e87-e10b8110b7a7"
   },
   "outputs": [
    {
     "name": "stdout",
     "output_type": "stream",
     "text": [
      "Linear Regression: \n",
      "RMSE: 3638.225967046384\n",
      "R2 score: 0.46754254471864554\n"
     ]
    }
   ],
   "source": [
    "lin_reg.fit(X_train_rfe, Y_train)\n",
    "\n",
    "Y_pred_lin_reg = lin_reg.predict(X_test_rfe)\n",
    "\n",
    "print(\"Linear Regression: \")\n",
    "print(\"RMSE:\",np.sqrt(mean_squared_error(Y_test, Y_pred_lin_reg)))\n",
    "print(\"R2 score:\", r2_score(Y_test, Y_pred_lin_reg))"
   ]
  }
 ],
 "metadata": {
  "accelerator": "GPU",
  "colab": {
   "collapsed_sections": [],
   "name": "Black Friday Regression.ipynb",
   "provenance": []
  },
  "kernelspec": {
   "display_name": "Python 3",
   "language": "python",
   "name": "python3"
  },
  "language_info": {
   "codemirror_mode": {
    "name": "ipython",
    "version": 3
   },
   "file_extension": ".py",
   "mimetype": "text/x-python",
   "name": "python",
   "nbconvert_exporter": "python",
   "pygments_lexer": "ipython3",
   "version": "3.7.4"
  }
 },
 "nbformat": 4,
 "nbformat_minor": 1
}
